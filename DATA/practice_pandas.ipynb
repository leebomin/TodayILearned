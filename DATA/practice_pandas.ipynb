{
 "cells": [
  {
   "cell_type": "code",
   "execution_count": 2,
   "metadata": {},
   "outputs": [],
   "source": [
    "import pandas as pd"
   ]
  },
  {
   "cell_type": "code",
   "execution_count": 3,
   "metadata": {},
   "outputs": [],
   "source": [
    "train = pd.read_csv('./Dacon/funda_train.csv')"
   ]
  },
  {
   "cell_type": "code",
   "execution_count": 4,
   "metadata": {},
   "outputs": [
    {
     "data": {
      "text/html": [
       "<div>\n",
       "<style scoped>\n",
       "    .dataframe tbody tr th:only-of-type {\n",
       "        vertical-align: middle;\n",
       "    }\n",
       "\n",
       "    .dataframe tbody tr th {\n",
       "        vertical-align: top;\n",
       "    }\n",
       "\n",
       "    .dataframe thead th {\n",
       "        text-align: right;\n",
       "    }\n",
       "</style>\n",
       "<table border=\"1\" class=\"dataframe\">\n",
       "  <thead>\n",
       "    <tr style=\"text-align: right;\">\n",
       "      <th></th>\n",
       "      <th>store_id</th>\n",
       "      <th>card_id</th>\n",
       "      <th>card_company</th>\n",
       "      <th>transacted_date</th>\n",
       "      <th>transacted_time</th>\n",
       "      <th>installment_term</th>\n",
       "      <th>region</th>\n",
       "      <th>type_of_business</th>\n",
       "      <th>amount</th>\n",
       "    </tr>\n",
       "  </thead>\n",
       "  <tbody>\n",
       "    <tr>\n",
       "      <th>0</th>\n",
       "      <td>0</td>\n",
       "      <td>0</td>\n",
       "      <td>b</td>\n",
       "      <td>2016-06-01</td>\n",
       "      <td>13:13</td>\n",
       "      <td>0</td>\n",
       "      <td>NaN</td>\n",
       "      <td>기타 미용업</td>\n",
       "      <td>1857.142857</td>\n",
       "    </tr>\n",
       "    <tr>\n",
       "      <th>1</th>\n",
       "      <td>0</td>\n",
       "      <td>1</td>\n",
       "      <td>h</td>\n",
       "      <td>2016-06-01</td>\n",
       "      <td>18:12</td>\n",
       "      <td>0</td>\n",
       "      <td>NaN</td>\n",
       "      <td>기타 미용업</td>\n",
       "      <td>857.142857</td>\n",
       "    </tr>\n",
       "    <tr>\n",
       "      <th>2</th>\n",
       "      <td>0</td>\n",
       "      <td>2</td>\n",
       "      <td>c</td>\n",
       "      <td>2016-06-01</td>\n",
       "      <td>18:52</td>\n",
       "      <td>0</td>\n",
       "      <td>NaN</td>\n",
       "      <td>기타 미용업</td>\n",
       "      <td>2000.000000</td>\n",
       "    </tr>\n",
       "    <tr>\n",
       "      <th>3</th>\n",
       "      <td>0</td>\n",
       "      <td>3</td>\n",
       "      <td>a</td>\n",
       "      <td>2016-06-01</td>\n",
       "      <td>20:22</td>\n",
       "      <td>0</td>\n",
       "      <td>NaN</td>\n",
       "      <td>기타 미용업</td>\n",
       "      <td>7857.142857</td>\n",
       "    </tr>\n",
       "    <tr>\n",
       "      <th>4</th>\n",
       "      <td>0</td>\n",
       "      <td>4</td>\n",
       "      <td>c</td>\n",
       "      <td>2016-06-02</td>\n",
       "      <td>11:06</td>\n",
       "      <td>0</td>\n",
       "      <td>NaN</td>\n",
       "      <td>기타 미용업</td>\n",
       "      <td>2000.000000</td>\n",
       "    </tr>\n",
       "    <tr>\n",
       "      <th>5</th>\n",
       "      <td>0</td>\n",
       "      <td>5</td>\n",
       "      <td>c</td>\n",
       "      <td>2016-06-02</td>\n",
       "      <td>13:09</td>\n",
       "      <td>0</td>\n",
       "      <td>NaN</td>\n",
       "      <td>기타 미용업</td>\n",
       "      <td>2000.000000</td>\n",
       "    </tr>\n",
       "  </tbody>\n",
       "</table>\n",
       "</div>"
      ],
      "text/plain": [
       "   store_id  card_id card_company transacted_date transacted_time  \\\n",
       "0         0        0            b      2016-06-01           13:13   \n",
       "1         0        1            h      2016-06-01           18:12   \n",
       "2         0        2            c      2016-06-01           18:52   \n",
       "3         0        3            a      2016-06-01           20:22   \n",
       "4         0        4            c      2016-06-02           11:06   \n",
       "5         0        5            c      2016-06-02           13:09   \n",
       "\n",
       "   installment_term region type_of_business       amount  \n",
       "0                 0    NaN           기타 미용업  1857.142857  \n",
       "1                 0    NaN           기타 미용업   857.142857  \n",
       "2                 0    NaN           기타 미용업  2000.000000  \n",
       "3                 0    NaN           기타 미용업  7857.142857  \n",
       "4                 0    NaN           기타 미용업  2000.000000  \n",
       "5                 0    NaN           기타 미용업  2000.000000  "
      ]
     },
     "execution_count": 4,
     "metadata": {},
     "output_type": "execute_result"
    }
   ],
   "source": [
    "train.head(6)"
   ]
  },
  {
   "cell_type": "code",
   "execution_count": 5,
   "metadata": {},
   "outputs": [
    {
     "data": {
      "text/html": [
       "<div>\n",
       "<style scoped>\n",
       "    .dataframe tbody tr th:only-of-type {\n",
       "        vertical-align: middle;\n",
       "    }\n",
       "\n",
       "    .dataframe tbody tr th {\n",
       "        vertical-align: top;\n",
       "    }\n",
       "\n",
       "    .dataframe thead th {\n",
       "        text-align: right;\n",
       "    }\n",
       "</style>\n",
       "<table border=\"1\" class=\"dataframe\">\n",
       "  <thead>\n",
       "    <tr style=\"text-align: right;\">\n",
       "      <th></th>\n",
       "      <th>store_id</th>\n",
       "      <th>card_id</th>\n",
       "      <th>card_company</th>\n",
       "      <th>transacted_date</th>\n",
       "      <th>transacted_time</th>\n",
       "      <th>installment_term</th>\n",
       "      <th>region</th>\n",
       "      <th>type_of_business</th>\n",
       "      <th>amount</th>\n",
       "    </tr>\n",
       "  </thead>\n",
       "  <tbody>\n",
       "    <tr>\n",
       "      <th>6556603</th>\n",
       "      <td>2136</td>\n",
       "      <td>4663852</td>\n",
       "      <td>a</td>\n",
       "      <td>2019-02-28</td>\n",
       "      <td>22:35</td>\n",
       "      <td>0</td>\n",
       "      <td>제주 제주시</td>\n",
       "      <td>기타 주점업</td>\n",
       "      <td>4571.428571</td>\n",
       "    </tr>\n",
       "    <tr>\n",
       "      <th>6556604</th>\n",
       "      <td>2136</td>\n",
       "      <td>4663853</td>\n",
       "      <td>e</td>\n",
       "      <td>2019-02-28</td>\n",
       "      <td>22:43</td>\n",
       "      <td>0</td>\n",
       "      <td>제주 제주시</td>\n",
       "      <td>기타 주점업</td>\n",
       "      <td>3571.428571</td>\n",
       "    </tr>\n",
       "    <tr>\n",
       "      <th>6556605</th>\n",
       "      <td>2136</td>\n",
       "      <td>4663666</td>\n",
       "      <td>f</td>\n",
       "      <td>2019-02-28</td>\n",
       "      <td>22:45</td>\n",
       "      <td>0</td>\n",
       "      <td>제주 제주시</td>\n",
       "      <td>기타 주점업</td>\n",
       "      <td>7428.571429</td>\n",
       "    </tr>\n",
       "    <tr>\n",
       "      <th>6556606</th>\n",
       "      <td>2136</td>\n",
       "      <td>4663854</td>\n",
       "      <td>f</td>\n",
       "      <td>2019-02-28</td>\n",
       "      <td>23:03</td>\n",
       "      <td>0</td>\n",
       "      <td>제주 제주시</td>\n",
       "      <td>기타 주점업</td>\n",
       "      <td>3928.571429</td>\n",
       "    </tr>\n",
       "    <tr>\n",
       "      <th>6556607</th>\n",
       "      <td>2136</td>\n",
       "      <td>4663855</td>\n",
       "      <td>d</td>\n",
       "      <td>2019-02-28</td>\n",
       "      <td>23:20</td>\n",
       "      <td>0</td>\n",
       "      <td>제주 제주시</td>\n",
       "      <td>기타 주점업</td>\n",
       "      <td>4500.000000</td>\n",
       "    </tr>\n",
       "    <tr>\n",
       "      <th>6556608</th>\n",
       "      <td>2136</td>\n",
       "      <td>4663855</td>\n",
       "      <td>d</td>\n",
       "      <td>2019-02-28</td>\n",
       "      <td>23:20</td>\n",
       "      <td>0</td>\n",
       "      <td>제주 제주시</td>\n",
       "      <td>기타 주점업</td>\n",
       "      <td>-4500.000000</td>\n",
       "    </tr>\n",
       "    <tr>\n",
       "      <th>6556609</th>\n",
       "      <td>2136</td>\n",
       "      <td>4663855</td>\n",
       "      <td>d</td>\n",
       "      <td>2019-02-28</td>\n",
       "      <td>23:24</td>\n",
       "      <td>0</td>\n",
       "      <td>제주 제주시</td>\n",
       "      <td>기타 주점업</td>\n",
       "      <td>4142.857143</td>\n",
       "    </tr>\n",
       "    <tr>\n",
       "      <th>6556610</th>\n",
       "      <td>2136</td>\n",
       "      <td>4663489</td>\n",
       "      <td>a</td>\n",
       "      <td>2019-02-28</td>\n",
       "      <td>23:24</td>\n",
       "      <td>0</td>\n",
       "      <td>제주 제주시</td>\n",
       "      <td>기타 주점업</td>\n",
       "      <td>4500.000000</td>\n",
       "    </tr>\n",
       "    <tr>\n",
       "      <th>6556611</th>\n",
       "      <td>2136</td>\n",
       "      <td>4663856</td>\n",
       "      <td>d</td>\n",
       "      <td>2019-02-28</td>\n",
       "      <td>23:27</td>\n",
       "      <td>0</td>\n",
       "      <td>제주 제주시</td>\n",
       "      <td>기타 주점업</td>\n",
       "      <td>571.428571</td>\n",
       "    </tr>\n",
       "    <tr>\n",
       "      <th>6556612</th>\n",
       "      <td>2136</td>\n",
       "      <td>4658616</td>\n",
       "      <td>c</td>\n",
       "      <td>2019-02-28</td>\n",
       "      <td>23:54</td>\n",
       "      <td>0</td>\n",
       "      <td>제주 제주시</td>\n",
       "      <td>기타 주점업</td>\n",
       "      <td>5857.142857</td>\n",
       "    </tr>\n",
       "  </tbody>\n",
       "</table>\n",
       "</div>"
      ],
      "text/plain": [
       "         store_id  card_id card_company transacted_date transacted_time  \\\n",
       "6556603      2136  4663852            a      2019-02-28           22:35   \n",
       "6556604      2136  4663853            e      2019-02-28           22:43   \n",
       "6556605      2136  4663666            f      2019-02-28           22:45   \n",
       "6556606      2136  4663854            f      2019-02-28           23:03   \n",
       "6556607      2136  4663855            d      2019-02-28           23:20   \n",
       "6556608      2136  4663855            d      2019-02-28           23:20   \n",
       "6556609      2136  4663855            d      2019-02-28           23:24   \n",
       "6556610      2136  4663489            a      2019-02-28           23:24   \n",
       "6556611      2136  4663856            d      2019-02-28           23:27   \n",
       "6556612      2136  4658616            c      2019-02-28           23:54   \n",
       "\n",
       "         installment_term  region type_of_business       amount  \n",
       "6556603                 0  제주 제주시           기타 주점업  4571.428571  \n",
       "6556604                 0  제주 제주시           기타 주점업  3571.428571  \n",
       "6556605                 0  제주 제주시           기타 주점업  7428.571429  \n",
       "6556606                 0  제주 제주시           기타 주점업  3928.571429  \n",
       "6556607                 0  제주 제주시           기타 주점업  4500.000000  \n",
       "6556608                 0  제주 제주시           기타 주점업 -4500.000000  \n",
       "6556609                 0  제주 제주시           기타 주점업  4142.857143  \n",
       "6556610                 0  제주 제주시           기타 주점업  4500.000000  \n",
       "6556611                 0  제주 제주시           기타 주점업   571.428571  \n",
       "6556612                 0  제주 제주시           기타 주점업  5857.142857  "
      ]
     },
     "execution_count": 5,
     "metadata": {},
     "output_type": "execute_result"
    }
   ],
   "source": [
    "train.tail(10)"
   ]
  },
  {
   "cell_type": "code",
   "execution_count": 6,
   "metadata": {},
   "outputs": [
    {
     "data": {
      "text/html": [
       "<div>\n",
       "<style scoped>\n",
       "    .dataframe tbody tr th:only-of-type {\n",
       "        vertical-align: middle;\n",
       "    }\n",
       "\n",
       "    .dataframe tbody tr th {\n",
       "        vertical-align: top;\n",
       "    }\n",
       "\n",
       "    .dataframe thead th {\n",
       "        text-align: right;\n",
       "    }\n",
       "</style>\n",
       "<table border=\"1\" class=\"dataframe\">\n",
       "  <thead>\n",
       "    <tr style=\"text-align: right;\">\n",
       "      <th></th>\n",
       "      <th>store_id</th>\n",
       "      <th>card_id</th>\n",
       "      <th>installment_term</th>\n",
       "      <th>amount</th>\n",
       "    </tr>\n",
       "  </thead>\n",
       "  <tbody>\n",
       "    <tr>\n",
       "      <th>count</th>\n",
       "      <td>6.556613e+06</td>\n",
       "      <td>6.556613e+06</td>\n",
       "      <td>6.556613e+06</td>\n",
       "      <td>6.556613e+06</td>\n",
       "    </tr>\n",
       "    <tr>\n",
       "      <th>mean</th>\n",
       "      <td>1.084930e+03</td>\n",
       "      <td>2.268127e+06</td>\n",
       "      <td>1.382017e-01</td>\n",
       "      <td>1.043511e+04</td>\n",
       "    </tr>\n",
       "    <tr>\n",
       "      <th>std</th>\n",
       "      <td>6.152183e+02</td>\n",
       "      <td>1.351058e+06</td>\n",
       "      <td>1.188152e+00</td>\n",
       "      <td>3.104031e+04</td>\n",
       "    </tr>\n",
       "    <tr>\n",
       "      <th>min</th>\n",
       "      <td>0.000000e+00</td>\n",
       "      <td>0.000000e+00</td>\n",
       "      <td>0.000000e+00</td>\n",
       "      <td>-2.771429e+06</td>\n",
       "    </tr>\n",
       "    <tr>\n",
       "      <th>25%</th>\n",
       "      <td>5.860000e+02</td>\n",
       "      <td>1.088828e+06</td>\n",
       "      <td>0.000000e+00</td>\n",
       "      <td>2.142857e+03</td>\n",
       "    </tr>\n",
       "    <tr>\n",
       "      <th>50%</th>\n",
       "      <td>1.074000e+03</td>\n",
       "      <td>2.239304e+06</td>\n",
       "      <td>0.000000e+00</td>\n",
       "      <td>4.285714e+03</td>\n",
       "    </tr>\n",
       "    <tr>\n",
       "      <th>75%</th>\n",
       "      <td>1.615000e+03</td>\n",
       "      <td>3.438488e+06</td>\n",
       "      <td>0.000000e+00</td>\n",
       "      <td>8.571429e+03</td>\n",
       "    </tr>\n",
       "    <tr>\n",
       "      <th>max</th>\n",
       "      <td>2.136000e+03</td>\n",
       "      <td>4.663856e+06</td>\n",
       "      <td>9.300000e+01</td>\n",
       "      <td>5.571429e+06</td>\n",
       "    </tr>\n",
       "  </tbody>\n",
       "</table>\n",
       "</div>"
      ],
      "text/plain": [
       "           store_id       card_id  installment_term        amount\n",
       "count  6.556613e+06  6.556613e+06      6.556613e+06  6.556613e+06\n",
       "mean   1.084930e+03  2.268127e+06      1.382017e-01  1.043511e+04\n",
       "std    6.152183e+02  1.351058e+06      1.188152e+00  3.104031e+04\n",
       "min    0.000000e+00  0.000000e+00      0.000000e+00 -2.771429e+06\n",
       "25%    5.860000e+02  1.088828e+06      0.000000e+00  2.142857e+03\n",
       "50%    1.074000e+03  2.239304e+06      0.000000e+00  4.285714e+03\n",
       "75%    1.615000e+03  3.438488e+06      0.000000e+00  8.571429e+03\n",
       "max    2.136000e+03  4.663856e+06      9.300000e+01  5.571429e+06"
      ]
     },
     "execution_count": 6,
     "metadata": {},
     "output_type": "execute_result"
    }
   ],
   "source": [
    "train.describe()"
   ]
  },
  {
   "cell_type": "code",
   "execution_count": 7,
   "metadata": {},
   "outputs": [
    {
     "data": {
      "text/plain": [
       "store_id              int64\n",
       "card_id               int64\n",
       "card_company         object\n",
       "transacted_date      object\n",
       "transacted_time      object\n",
       "installment_term      int64\n",
       "region               object\n",
       "type_of_business     object\n",
       "amount              float64\n",
       "dtype: object"
      ]
     },
     "execution_count": 7,
     "metadata": {},
     "output_type": "execute_result"
    }
   ],
   "source": [
    "train.dtypes"
   ]
  },
  {
   "cell_type": "code",
   "execution_count": 8,
   "metadata": {
    "scrolled": true
   },
   "outputs": [
    {
     "data": {
      "text/plain": [
       "Index(['store_id', 'card_id', 'card_company', 'transacted_date',\n",
       "       'transacted_time', 'installment_term', 'region', 'type_of_business',\n",
       "       'amount'],\n",
       "      dtype='object')"
      ]
     },
     "execution_count": 8,
     "metadata": {},
     "output_type": "execute_result"
    }
   ],
   "source": [
    "train.columns"
   ]
  },
  {
   "cell_type": "code",
   "execution_count": 9,
   "metadata": {},
   "outputs": [
    {
     "data": {
      "text/plain": [
       "6556613"
      ]
     },
     "execution_count": 9,
     "metadata": {},
     "output_type": "execute_result"
    }
   ],
   "source": [
    "len(train)"
   ]
  },
  {
   "cell_type": "code",
   "execution_count": 100,
   "metadata": {},
   "outputs": [],
   "source": [
    "set_amount = train[(train['transacted_date']>='2018-03-01') & (train['transacted_date'] <= '2018-05-31')]"
   ]
  },
  {
   "cell_type": "code",
   "execution_count": 101,
   "metadata": {},
   "outputs": [
    {
     "data": {
      "text/html": [
       "<div>\n",
       "<style scoped>\n",
       "    .dataframe tbody tr th:only-of-type {\n",
       "        vertical-align: middle;\n",
       "    }\n",
       "\n",
       "    .dataframe tbody tr th {\n",
       "        vertical-align: top;\n",
       "    }\n",
       "\n",
       "    .dataframe thead th {\n",
       "        text-align: right;\n",
       "    }\n",
       "</style>\n",
       "<table border=\"1\" class=\"dataframe\">\n",
       "  <thead>\n",
       "    <tr style=\"text-align: right;\">\n",
       "      <th></th>\n",
       "      <th>store_id</th>\n",
       "      <th>card_id</th>\n",
       "      <th>card_company</th>\n",
       "      <th>transacted_date</th>\n",
       "      <th>transacted_time</th>\n",
       "      <th>installment_term</th>\n",
       "      <th>region</th>\n",
       "      <th>type_of_business</th>\n",
       "      <th>amount</th>\n",
       "    </tr>\n",
       "  </thead>\n",
       "  <tbody>\n",
       "    <tr>\n",
       "      <th>2938</th>\n",
       "      <td>0</td>\n",
       "      <td>855</td>\n",
       "      <td>a</td>\n",
       "      <td>2018-03-01</td>\n",
       "      <td>10:21</td>\n",
       "      <td>0</td>\n",
       "      <td>NaN</td>\n",
       "      <td>기타 미용업</td>\n",
       "      <td>1857.142857</td>\n",
       "    </tr>\n",
       "    <tr>\n",
       "      <th>2939</th>\n",
       "      <td>0</td>\n",
       "      <td>1278</td>\n",
       "      <td>g</td>\n",
       "      <td>2018-03-01</td>\n",
       "      <td>14:47</td>\n",
       "      <td>0</td>\n",
       "      <td>NaN</td>\n",
       "      <td>기타 미용업</td>\n",
       "      <td>7142.857143</td>\n",
       "    </tr>\n",
       "    <tr>\n",
       "      <th>2940</th>\n",
       "      <td>0</td>\n",
       "      <td>177</td>\n",
       "      <td>h</td>\n",
       "      <td>2018-03-01</td>\n",
       "      <td>16:50</td>\n",
       "      <td>0</td>\n",
       "      <td>NaN</td>\n",
       "      <td>기타 미용업</td>\n",
       "      <td>2000.000000</td>\n",
       "    </tr>\n",
       "    <tr>\n",
       "      <th>2941</th>\n",
       "      <td>0</td>\n",
       "      <td>857</td>\n",
       "      <td>a</td>\n",
       "      <td>2018-03-01</td>\n",
       "      <td>16:51</td>\n",
       "      <td>0</td>\n",
       "      <td>NaN</td>\n",
       "      <td>기타 미용업</td>\n",
       "      <td>10000.000000</td>\n",
       "    </tr>\n",
       "    <tr>\n",
       "      <th>2942</th>\n",
       "      <td>0</td>\n",
       "      <td>1279</td>\n",
       "      <td>g</td>\n",
       "      <td>2018-03-01</td>\n",
       "      <td>18:29</td>\n",
       "      <td>0</td>\n",
       "      <td>NaN</td>\n",
       "      <td>기타 미용업</td>\n",
       "      <td>7714.285714</td>\n",
       "    </tr>\n",
       "  </tbody>\n",
       "</table>\n",
       "</div>"
      ],
      "text/plain": [
       "      store_id  card_id card_company transacted_date transacted_time  \\\n",
       "2938         0      855            a      2018-03-01           10:21   \n",
       "2939         0     1278            g      2018-03-01           14:47   \n",
       "2940         0      177            h      2018-03-01           16:50   \n",
       "2941         0      857            a      2018-03-01           16:51   \n",
       "2942         0     1279            g      2018-03-01           18:29   \n",
       "\n",
       "      installment_term region type_of_business        amount  \n",
       "2938                 0    NaN           기타 미용업   1857.142857  \n",
       "2939                 0    NaN           기타 미용업   7142.857143  \n",
       "2940                 0    NaN           기타 미용업   2000.000000  \n",
       "2941                 0    NaN           기타 미용업  10000.000000  \n",
       "2942                 0    NaN           기타 미용업   7714.285714  "
      ]
     },
     "execution_count": 101,
     "metadata": {},
     "output_type": "execute_result"
    }
   ],
   "source": [
    "set_amount.head(5)"
   ]
  },
  {
   "cell_type": "code",
   "execution_count": 13,
   "metadata": {},
   "outputs": [
    {
     "name": "stderr",
     "output_type": "stream",
     "text": [
      "/usr/local/lib/python3.6/dist-packages/ipykernel_launcher.py:1: FutureWarning: The signature of `Series.to_csv` was aligned to that of `DataFrame.to_csv`, and argument 'header' will change its default value from False to True: please pass an explicit value to suppress this warning.\n",
      "  \"\"\"Entry point for launching an IPython kernel.\n"
     ]
    }
   ],
   "source": [
    "set_amount.groupby('store_id')['amount'].sum().to_csv('./Dacon/first_test.csv')"
   ]
  },
  {
   "cell_type": "code",
   "execution_count": 14,
   "metadata": {},
   "outputs": [
    {
     "data": {
      "text/plain": [
       "0             0\n",
       "1             0\n",
       "2             0\n",
       "3             0\n",
       "4             0\n",
       "           ... \n",
       "6556608    2136\n",
       "6556609    2136\n",
       "6556610    2136\n",
       "6556611    2136\n",
       "6556612    2136\n",
       "Name: store_id, Length: 6556613, dtype: int64"
      ]
     },
     "execution_count": 14,
     "metadata": {},
     "output_type": "execute_result"
    }
   ],
   "source": [
    "train['store_id']"
   ]
  },
  {
   "cell_type": "code",
   "execution_count": 15,
   "metadata": {},
   "outputs": [
    {
     "data": {
      "text/plain": [
       "1967"
      ]
     },
     "execution_count": 15,
     "metadata": {},
     "output_type": "execute_result"
    }
   ],
   "source": [
    "train['store_id'].nunique()"
   ]
  },
  {
   "cell_type": "code",
   "execution_count": 16,
   "metadata": {},
   "outputs": [
    {
     "data": {
      "text/plain": [
       "1955"
      ]
     },
     "execution_count": 16,
     "metadata": {},
     "output_type": "execute_result"
    }
   ],
   "source": [
    "set_amount['store_id'].nunique()"
   ]
  },
  {
   "cell_type": "code",
   "execution_count": 18,
   "metadata": {},
   "outputs": [
    {
     "data": {
      "text/html": [
       "<div>\n",
       "<style scoped>\n",
       "    .dataframe tbody tr th:only-of-type {\n",
       "        vertical-align: middle;\n",
       "    }\n",
       "\n",
       "    .dataframe tbody tr th {\n",
       "        vertical-align: top;\n",
       "    }\n",
       "\n",
       "    .dataframe thead th {\n",
       "        text-align: right;\n",
       "    }\n",
       "</style>\n",
       "<table border=\"1\" class=\"dataframe\">\n",
       "  <thead>\n",
       "    <tr style=\"text-align: right;\">\n",
       "      <th></th>\n",
       "      <th>store_id</th>\n",
       "      <th>card_id</th>\n",
       "      <th>card_company</th>\n",
       "      <th>transacted_date</th>\n",
       "      <th>transacted_time</th>\n",
       "      <th>installment_term</th>\n",
       "      <th>region</th>\n",
       "      <th>type_of_business</th>\n",
       "      <th>amount</th>\n",
       "    </tr>\n",
       "  </thead>\n",
       "  <tbody>\n",
       "  </tbody>\n",
       "</table>\n",
       "</div>"
      ],
      "text/plain": [
       "Empty DataFrame\n",
       "Columns: [store_id, card_id, card_company, transacted_date, transacted_time, installment_term, region, type_of_business, amount]\n",
       "Index: []"
      ]
     },
     "execution_count": 18,
     "metadata": {},
     "output_type": "execute_result"
    }
   ],
   "source": [
    "train[pd.isna(train['store_id'])]"
   ]
  },
  {
   "cell_type": "markdown",
   "metadata": {},
   "source": [
    "### 잃어버린 12개를 찾아서 1"
   ]
  },
  {
   "cell_type": "code",
   "execution_count": 26,
   "metadata": {},
   "outputs": [],
   "source": [
    "m_stores = set(train['store_id'].unique())"
   ]
  },
  {
   "cell_type": "code",
   "execution_count": 27,
   "metadata": {
    "scrolled": true
   },
   "outputs": [],
   "source": [
    "b_stores = set(set_amount['store_id'].unique())"
   ]
  },
  {
   "cell_type": "code",
   "execution_count": 38,
   "metadata": {},
   "outputs": [],
   "source": [
    "missing = list(m_stores - b_stores)"
   ]
  },
  {
   "cell_type": "markdown",
   "metadata": {},
   "source": [
    "### 잃어버린 12개를 찾아서 2"
   ]
  },
  {
   "cell_type": "code",
   "execution_count": 64,
   "metadata": {},
   "outputs": [
    {
     "data": {
      "text/plain": [
       "store_id               12\n",
       "card_id             15858\n",
       "card_company            8\n",
       "transacted_date       872\n",
       "transacted_time      1090\n",
       "installment_term       12\n",
       "region                  7\n",
       "type_of_business        4\n",
       "amount               1799\n",
       "dtype: int64"
      ]
     },
     "execution_count": 64,
     "metadata": {},
     "output_type": "execute_result"
    }
   ],
   "source": [
    "train[~(train['store_id'].isin(set_amount['store_id']))].nunique()"
   ]
  },
  {
   "cell_type": "code",
   "execution_count": 78,
   "metadata": {},
   "outputs": [],
   "source": [
    "missing_datas = train[~(train['store_id'].isin(set_amount['store_id']))]"
   ]
  },
  {
   "cell_type": "code",
   "execution_count": 79,
   "metadata": {},
   "outputs": [
    {
     "data": {
      "text/plain": [
       "12"
      ]
     },
     "execution_count": 79,
     "metadata": {},
     "output_type": "execute_result"
    }
   ],
   "source": [
    "missing_datas['store_id'].nunique()"
   ]
  },
  {
   "cell_type": "code",
   "execution_count": null,
   "metadata": {},
   "outputs": [],
   "source": []
  },
  {
   "cell_type": "code",
   "execution_count": null,
   "metadata": {},
   "outputs": [],
   "source": []
  },
  {
   "cell_type": "markdown",
   "metadata": {},
   "source": [
    "### 왜 빠졌을까?"
   ]
  },
  {
   "cell_type": "code",
   "execution_count": 96,
   "metadata": {},
   "outputs": [
    {
     "data": {
      "text/plain": [
       "store_id            22721\n",
       "card_id             22721\n",
       "card_company        22721\n",
       "transacted_date     22721\n",
       "transacted_time     22721\n",
       "installment_term    22721\n",
       "region              17717\n",
       "type_of_business     4141\n",
       "amount              22721\n",
       "dtype: int64"
      ]
     },
     "execution_count": 96,
     "metadata": {},
     "output_type": "execute_result"
    }
   ],
   "source": [
    "missing_datas[(missing_datas['transacted_date'] < '2018-03-01') | (missing_datas['transacted_date'] > '2018-05-31')].count()"
   ]
  },
  {
   "cell_type": "code",
   "execution_count": 87,
   "metadata": {},
   "outputs": [
    {
     "ename": "SyntaxError",
     "evalue": "invalid syntax (<ipython-input-87-de603c91038f>, line 1)",
     "output_type": "error",
     "traceback": [
      "\u001b[0;36m  File \u001b[0;32m\"<ipython-input-87-de603c91038f>\"\u001b[0;36m, line \u001b[0;32m1\u001b[0m\n\u001b[0;31m    ]\u001b[0m\n\u001b[0m    ^\u001b[0m\n\u001b[0;31mSyntaxError\u001b[0m\u001b[0;31m:\u001b[0m invalid syntax\n"
     ]
    }
   ],
   "source": [
    "]"
   ]
  },
  {
   "cell_type": "code",
   "execution_count": null,
   "metadata": {},
   "outputs": [],
   "source": []
  },
  {
   "cell_type": "code",
   "execution_count": null,
   "metadata": {},
   "outputs": [],
   "source": []
  },
  {
   "cell_type": "code",
   "execution_count": null,
   "metadata": {},
   "outputs": [],
   "source": []
  },
  {
   "cell_type": "code",
   "execution_count": 30,
   "metadata": {},
   "outputs": [
    {
     "data": {
      "text/plain": [
       "12"
      ]
     },
     "execution_count": 30,
     "metadata": {},
     "output_type": "execute_result"
    }
   ],
   "source": [
    "len(list(m_stores - b_stores))"
   ]
  },
  {
   "cell_type": "code",
   "execution_count": 37,
   "metadata": {},
   "outputs": [
    {
     "data": {
      "text/html": [
       "<div>\n",
       "<style scoped>\n",
       "    .dataframe tbody tr th:only-of-type {\n",
       "        vertical-align: middle;\n",
       "    }\n",
       "\n",
       "    .dataframe tbody tr th {\n",
       "        vertical-align: top;\n",
       "    }\n",
       "\n",
       "    .dataframe thead th {\n",
       "        text-align: right;\n",
       "    }\n",
       "</style>\n",
       "<table border=\"1\" class=\"dataframe\">\n",
       "  <thead>\n",
       "    <tr style=\"text-align: right;\">\n",
       "      <th></th>\n",
       "      <th>0</th>\n",
       "    </tr>\n",
       "  </thead>\n",
       "  <tbody>\n",
       "    <tr>\n",
       "      <th>0</th>\n",
       "      <td>2081</td>\n",
       "    </tr>\n",
       "    <tr>\n",
       "      <th>1</th>\n",
       "      <td>706</td>\n",
       "    </tr>\n",
       "    <tr>\n",
       "      <th>2</th>\n",
       "      <td>515</td>\n",
       "    </tr>\n",
       "    <tr>\n",
       "      <th>3</th>\n",
       "      <td>1379</td>\n",
       "    </tr>\n",
       "    <tr>\n",
       "      <th>4</th>\n",
       "      <td>999</td>\n",
       "    </tr>\n",
       "    <tr>\n",
       "      <th>5</th>\n",
       "      <td>2119</td>\n",
       "    </tr>\n",
       "    <tr>\n",
       "      <th>6</th>\n",
       "      <td>588</td>\n",
       "    </tr>\n",
       "    <tr>\n",
       "      <th>7</th>\n",
       "      <td>2094</td>\n",
       "    </tr>\n",
       "    <tr>\n",
       "      <th>8</th>\n",
       "      <td>271</td>\n",
       "    </tr>\n",
       "    <tr>\n",
       "      <th>9</th>\n",
       "      <td>1435</td>\n",
       "    </tr>\n",
       "    <tr>\n",
       "      <th>10</th>\n",
       "      <td>279</td>\n",
       "    </tr>\n",
       "    <tr>\n",
       "      <th>11</th>\n",
       "      <td>795</td>\n",
       "    </tr>\n",
       "  </tbody>\n",
       "</table>\n",
       "</div>"
      ],
      "text/plain": [
       "       0\n",
       "0   2081\n",
       "1    706\n",
       "2    515\n",
       "3   1379\n",
       "4    999\n",
       "5   2119\n",
       "6    588\n",
       "7   2094\n",
       "8    271\n",
       "9   1435\n",
       "10   279\n",
       "11   795"
      ]
     },
     "execution_count": 37,
     "metadata": {},
     "output_type": "execute_result"
    }
   ],
   "source": [
    "missing_pd.DataFrame(missing)"
   ]
  },
  {
   "cell_type": "code",
   "execution_count": null,
   "metadata": {},
   "outputs": [],
   "source": []
  },
  {
   "cell_type": "code",
   "execution_count": null,
   "metadata": {},
   "outputs": [],
   "source": []
  },
  {
   "cell_type": "code",
   "execution_count": null,
   "metadata": {},
   "outputs": [],
   "source": []
  },
  {
   "cell_type": "code",
   "execution_count": null,
   "metadata": {},
   "outputs": [],
   "source": []
  },
  {
   "cell_type": "code",
   "execution_count": null,
   "metadata": {},
   "outputs": [],
   "source": []
  },
  {
   "cell_type": "code",
   "execution_count": null,
   "metadata": {},
   "outputs": [],
   "source": []
  },
  {
   "cell_type": "code",
   "execution_count": null,
   "metadata": {},
   "outputs": [],
   "source": []
  },
  {
   "cell_type": "markdown",
   "metadata": {},
   "source": [
    "## 추가문제 해결해보기"
   ]
  },
  {
   "cell_type": "markdown",
   "metadata": {},
   "source": [
    "### Q1. 업종전환을 한 가게가 있나요?\n"
   ]
  },
  {
   "cell_type": "code",
   "execution_count": 44,
   "metadata": {},
   "outputs": [
    {
     "data": {
      "text/html": [
       "<div>\n",
       "<style scoped>\n",
       "    .dataframe tbody tr th:only-of-type {\n",
       "        vertical-align: middle;\n",
       "    }\n",
       "\n",
       "    .dataframe tbody tr th {\n",
       "        vertical-align: top;\n",
       "    }\n",
       "\n",
       "    .dataframe thead th {\n",
       "        text-align: right;\n",
       "    }\n",
       "</style>\n",
       "<table border=\"1\" class=\"dataframe\">\n",
       "  <thead>\n",
       "    <tr style=\"text-align: right;\">\n",
       "      <th></th>\n",
       "      <th>store_id</th>\n",
       "      <th>card_id</th>\n",
       "      <th>card_company</th>\n",
       "      <th>transacted_date</th>\n",
       "      <th>transacted_time</th>\n",
       "      <th>installment_term</th>\n",
       "      <th>region</th>\n",
       "      <th>type_of_business</th>\n",
       "      <th>amount</th>\n",
       "    </tr>\n",
       "  </thead>\n",
       "  <tbody>\n",
       "    <tr>\n",
       "      <th>0</th>\n",
       "      <td>0</td>\n",
       "      <td>0</td>\n",
       "      <td>b</td>\n",
       "      <td>2016-06-01</td>\n",
       "      <td>13:13</td>\n",
       "      <td>0</td>\n",
       "      <td>NaN</td>\n",
       "      <td>기타 미용업</td>\n",
       "      <td>1857.142857</td>\n",
       "    </tr>\n",
       "    <tr>\n",
       "      <th>1</th>\n",
       "      <td>0</td>\n",
       "      <td>1</td>\n",
       "      <td>h</td>\n",
       "      <td>2016-06-01</td>\n",
       "      <td>18:12</td>\n",
       "      <td>0</td>\n",
       "      <td>NaN</td>\n",
       "      <td>기타 미용업</td>\n",
       "      <td>857.142857</td>\n",
       "    </tr>\n",
       "    <tr>\n",
       "      <th>2</th>\n",
       "      <td>0</td>\n",
       "      <td>2</td>\n",
       "      <td>c</td>\n",
       "      <td>2016-06-01</td>\n",
       "      <td>18:52</td>\n",
       "      <td>0</td>\n",
       "      <td>NaN</td>\n",
       "      <td>기타 미용업</td>\n",
       "      <td>2000.000000</td>\n",
       "    </tr>\n",
       "    <tr>\n",
       "      <th>3</th>\n",
       "      <td>0</td>\n",
       "      <td>3</td>\n",
       "      <td>a</td>\n",
       "      <td>2016-06-01</td>\n",
       "      <td>20:22</td>\n",
       "      <td>0</td>\n",
       "      <td>NaN</td>\n",
       "      <td>기타 미용업</td>\n",
       "      <td>7857.142857</td>\n",
       "    </tr>\n",
       "    <tr>\n",
       "      <th>4</th>\n",
       "      <td>0</td>\n",
       "      <td>4</td>\n",
       "      <td>c</td>\n",
       "      <td>2016-06-02</td>\n",
       "      <td>11:06</td>\n",
       "      <td>0</td>\n",
       "      <td>NaN</td>\n",
       "      <td>기타 미용업</td>\n",
       "      <td>2000.000000</td>\n",
       "    </tr>\n",
       "  </tbody>\n",
       "</table>\n",
       "</div>"
      ],
      "text/plain": [
       "   store_id  card_id card_company transacted_date transacted_time  \\\n",
       "0         0        0            b      2016-06-01           13:13   \n",
       "1         0        1            h      2016-06-01           18:12   \n",
       "2         0        2            c      2016-06-01           18:52   \n",
       "3         0        3            a      2016-06-01           20:22   \n",
       "4         0        4            c      2016-06-02           11:06   \n",
       "\n",
       "   installment_term region type_of_business       amount  \n",
       "0                 0    NaN           기타 미용업  1857.142857  \n",
       "1                 0    NaN           기타 미용업   857.142857  \n",
       "2                 0    NaN           기타 미용업  2000.000000  \n",
       "3                 0    NaN           기타 미용업  7857.142857  \n",
       "4                 0    NaN           기타 미용업  2000.000000  "
      ]
     },
     "execution_count": 44,
     "metadata": {},
     "output_type": "execute_result"
    }
   ],
   "source": [
    "train.head(5)"
   ]
  },
  {
   "cell_type": "code",
   "execution_count": 126,
   "metadata": {},
   "outputs": [],
   "source": [
    "tmp = train.groupby('store_id')['type_of_business'].nunique().reset_index(name='counts')"
   ]
  },
  {
   "cell_type": "code",
   "execution_count": 129,
   "metadata": {},
   "outputs": [
    {
     "data": {
      "text/html": [
       "<div>\n",
       "<style scoped>\n",
       "    .dataframe tbody tr th:only-of-type {\n",
       "        vertical-align: middle;\n",
       "    }\n",
       "\n",
       "    .dataframe tbody tr th {\n",
       "        vertical-align: top;\n",
       "    }\n",
       "\n",
       "    .dataframe thead th {\n",
       "        text-align: right;\n",
       "    }\n",
       "</style>\n",
       "<table border=\"1\" class=\"dataframe\">\n",
       "  <thead>\n",
       "    <tr style=\"text-align: right;\">\n",
       "      <th></th>\n",
       "      <th>store_id</th>\n",
       "      <th>counts</th>\n",
       "    </tr>\n",
       "  </thead>\n",
       "  <tbody>\n",
       "    <tr>\n",
       "      <th>0</th>\n",
       "      <td>0</td>\n",
       "      <td>1</td>\n",
       "    </tr>\n",
       "    <tr>\n",
       "      <th>1</th>\n",
       "      <td>1</td>\n",
       "      <td>0</td>\n",
       "    </tr>\n",
       "    <tr>\n",
       "      <th>2</th>\n",
       "      <td>2</td>\n",
       "      <td>0</td>\n",
       "    </tr>\n",
       "    <tr>\n",
       "      <th>3</th>\n",
       "      <td>4</td>\n",
       "      <td>0</td>\n",
       "    </tr>\n",
       "    <tr>\n",
       "      <th>4</th>\n",
       "      <td>5</td>\n",
       "      <td>1</td>\n",
       "    </tr>\n",
       "    <tr>\n",
       "      <th>5</th>\n",
       "      <td>6</td>\n",
       "      <td>0</td>\n",
       "    </tr>\n",
       "    <tr>\n",
       "      <th>6</th>\n",
       "      <td>7</td>\n",
       "      <td>0</td>\n",
       "    </tr>\n",
       "    <tr>\n",
       "      <th>7</th>\n",
       "      <td>8</td>\n",
       "      <td>1</td>\n",
       "    </tr>\n",
       "    <tr>\n",
       "      <th>8</th>\n",
       "      <td>9</td>\n",
       "      <td>0</td>\n",
       "    </tr>\n",
       "    <tr>\n",
       "      <th>9</th>\n",
       "      <td>10</td>\n",
       "      <td>0</td>\n",
       "    </tr>\n",
       "    <tr>\n",
       "      <th>10</th>\n",
       "      <td>11</td>\n",
       "      <td>0</td>\n",
       "    </tr>\n",
       "    <tr>\n",
       "      <th>11</th>\n",
       "      <td>12</td>\n",
       "      <td>1</td>\n",
       "    </tr>\n",
       "    <tr>\n",
       "      <th>12</th>\n",
       "      <td>13</td>\n",
       "      <td>0</td>\n",
       "    </tr>\n",
       "    <tr>\n",
       "      <th>13</th>\n",
       "      <td>14</td>\n",
       "      <td>1</td>\n",
       "    </tr>\n",
       "    <tr>\n",
       "      <th>14</th>\n",
       "      <td>15</td>\n",
       "      <td>0</td>\n",
       "    </tr>\n",
       "    <tr>\n",
       "      <th>15</th>\n",
       "      <td>16</td>\n",
       "      <td>0</td>\n",
       "    </tr>\n",
       "    <tr>\n",
       "      <th>16</th>\n",
       "      <td>17</td>\n",
       "      <td>1</td>\n",
       "    </tr>\n",
       "    <tr>\n",
       "      <th>17</th>\n",
       "      <td>18</td>\n",
       "      <td>1</td>\n",
       "    </tr>\n",
       "    <tr>\n",
       "      <th>18</th>\n",
       "      <td>19</td>\n",
       "      <td>1</td>\n",
       "    </tr>\n",
       "    <tr>\n",
       "      <th>19</th>\n",
       "      <td>20</td>\n",
       "      <td>0</td>\n",
       "    </tr>\n",
       "    <tr>\n",
       "      <th>20</th>\n",
       "      <td>22</td>\n",
       "      <td>0</td>\n",
       "    </tr>\n",
       "    <tr>\n",
       "      <th>21</th>\n",
       "      <td>23</td>\n",
       "      <td>1</td>\n",
       "    </tr>\n",
       "    <tr>\n",
       "      <th>22</th>\n",
       "      <td>24</td>\n",
       "      <td>1</td>\n",
       "    </tr>\n",
       "    <tr>\n",
       "      <th>23</th>\n",
       "      <td>25</td>\n",
       "      <td>1</td>\n",
       "    </tr>\n",
       "    <tr>\n",
       "      <th>24</th>\n",
       "      <td>26</td>\n",
       "      <td>0</td>\n",
       "    </tr>\n",
       "    <tr>\n",
       "      <th>25</th>\n",
       "      <td>27</td>\n",
       "      <td>0</td>\n",
       "    </tr>\n",
       "    <tr>\n",
       "      <th>26</th>\n",
       "      <td>28</td>\n",
       "      <td>0</td>\n",
       "    </tr>\n",
       "    <tr>\n",
       "      <th>27</th>\n",
       "      <td>29</td>\n",
       "      <td>0</td>\n",
       "    </tr>\n",
       "    <tr>\n",
       "      <th>28</th>\n",
       "      <td>30</td>\n",
       "      <td>1</td>\n",
       "    </tr>\n",
       "    <tr>\n",
       "      <th>29</th>\n",
       "      <td>31</td>\n",
       "      <td>0</td>\n",
       "    </tr>\n",
       "    <tr>\n",
       "      <th>...</th>\n",
       "      <td>...</td>\n",
       "      <td>...</td>\n",
       "    </tr>\n",
       "    <tr>\n",
       "      <th>1937</th>\n",
       "      <td>2106</td>\n",
       "      <td>0</td>\n",
       "    </tr>\n",
       "    <tr>\n",
       "      <th>1938</th>\n",
       "      <td>2107</td>\n",
       "      <td>0</td>\n",
       "    </tr>\n",
       "    <tr>\n",
       "      <th>1939</th>\n",
       "      <td>2108</td>\n",
       "      <td>0</td>\n",
       "    </tr>\n",
       "    <tr>\n",
       "      <th>1940</th>\n",
       "      <td>2109</td>\n",
       "      <td>1</td>\n",
       "    </tr>\n",
       "    <tr>\n",
       "      <th>1941</th>\n",
       "      <td>2110</td>\n",
       "      <td>0</td>\n",
       "    </tr>\n",
       "    <tr>\n",
       "      <th>1942</th>\n",
       "      <td>2111</td>\n",
       "      <td>0</td>\n",
       "    </tr>\n",
       "    <tr>\n",
       "      <th>1943</th>\n",
       "      <td>2112</td>\n",
       "      <td>1</td>\n",
       "    </tr>\n",
       "    <tr>\n",
       "      <th>1944</th>\n",
       "      <td>2113</td>\n",
       "      <td>0</td>\n",
       "    </tr>\n",
       "    <tr>\n",
       "      <th>1945</th>\n",
       "      <td>2114</td>\n",
       "      <td>0</td>\n",
       "    </tr>\n",
       "    <tr>\n",
       "      <th>1946</th>\n",
       "      <td>2115</td>\n",
       "      <td>1</td>\n",
       "    </tr>\n",
       "    <tr>\n",
       "      <th>1947</th>\n",
       "      <td>2116</td>\n",
       "      <td>1</td>\n",
       "    </tr>\n",
       "    <tr>\n",
       "      <th>1948</th>\n",
       "      <td>2117</td>\n",
       "      <td>0</td>\n",
       "    </tr>\n",
       "    <tr>\n",
       "      <th>1949</th>\n",
       "      <td>2118</td>\n",
       "      <td>1</td>\n",
       "    </tr>\n",
       "    <tr>\n",
       "      <th>1950</th>\n",
       "      <td>2119</td>\n",
       "      <td>0</td>\n",
       "    </tr>\n",
       "    <tr>\n",
       "      <th>1951</th>\n",
       "      <td>2120</td>\n",
       "      <td>1</td>\n",
       "    </tr>\n",
       "    <tr>\n",
       "      <th>1952</th>\n",
       "      <td>2121</td>\n",
       "      <td>1</td>\n",
       "    </tr>\n",
       "    <tr>\n",
       "      <th>1953</th>\n",
       "      <td>2122</td>\n",
       "      <td>0</td>\n",
       "    </tr>\n",
       "    <tr>\n",
       "      <th>1954</th>\n",
       "      <td>2123</td>\n",
       "      <td>0</td>\n",
       "    </tr>\n",
       "    <tr>\n",
       "      <th>1955</th>\n",
       "      <td>2124</td>\n",
       "      <td>1</td>\n",
       "    </tr>\n",
       "    <tr>\n",
       "      <th>1956</th>\n",
       "      <td>2125</td>\n",
       "      <td>1</td>\n",
       "    </tr>\n",
       "    <tr>\n",
       "      <th>1957</th>\n",
       "      <td>2126</td>\n",
       "      <td>1</td>\n",
       "    </tr>\n",
       "    <tr>\n",
       "      <th>1958</th>\n",
       "      <td>2127</td>\n",
       "      <td>0</td>\n",
       "    </tr>\n",
       "    <tr>\n",
       "      <th>1959</th>\n",
       "      <td>2128</td>\n",
       "      <td>1</td>\n",
       "    </tr>\n",
       "    <tr>\n",
       "      <th>1960</th>\n",
       "      <td>2129</td>\n",
       "      <td>0</td>\n",
       "    </tr>\n",
       "    <tr>\n",
       "      <th>1961</th>\n",
       "      <td>2130</td>\n",
       "      <td>1</td>\n",
       "    </tr>\n",
       "    <tr>\n",
       "      <th>1962</th>\n",
       "      <td>2132</td>\n",
       "      <td>0</td>\n",
       "    </tr>\n",
       "    <tr>\n",
       "      <th>1963</th>\n",
       "      <td>2133</td>\n",
       "      <td>0</td>\n",
       "    </tr>\n",
       "    <tr>\n",
       "      <th>1964</th>\n",
       "      <td>2134</td>\n",
       "      <td>0</td>\n",
       "    </tr>\n",
       "    <tr>\n",
       "      <th>1965</th>\n",
       "      <td>2135</td>\n",
       "      <td>0</td>\n",
       "    </tr>\n",
       "    <tr>\n",
       "      <th>1966</th>\n",
       "      <td>2136</td>\n",
       "      <td>1</td>\n",
       "    </tr>\n",
       "  </tbody>\n",
       "</table>\n",
       "<p>1967 rows × 2 columns</p>\n",
       "</div>"
      ],
      "text/plain": [
       "      store_id  counts\n",
       "0            0       1\n",
       "1            1       0\n",
       "2            2       0\n",
       "3            4       0\n",
       "4            5       1\n",
       "...        ...     ...\n",
       "1962      2132       0\n",
       "1963      2133       0\n",
       "1964      2134       0\n",
       "1965      2135       0\n",
       "1966      2136       1\n",
       "\n",
       "[1967 rows x 2 columns]"
      ]
     },
     "execution_count": 129,
     "metadata": {},
     "output_type": "execute_result"
    }
   ],
   "source": [
    "tmp"
   ]
  },
  {
   "cell_type": "code",
   "execution_count": null,
   "metadata": {},
   "outputs": [],
   "source": []
  },
  {
   "cell_type": "markdown",
   "metadata": {},
   "source": [
    "### Q2. 상점의 지역 별 분포는 어떻게 되나요?\n"
   ]
  },
  {
   "cell_type": "markdown",
   "metadata": {},
   "source": [
    "### Q3. 상점의 업종 별 분포는 어떻게 되나요?\n"
   ]
  },
  {
   "cell_type": "markdown",
   "metadata": {},
   "source": [
    "### Q4. 요일 별 매출은 어떻게 변하나요?\n"
   ]
  },
  {
   "cell_type": "markdown",
   "metadata": {},
   "source": [
    "### Q5. 공휴일이 매출에 영향을 미치나요?\n"
   ]
  },
  {
   "cell_type": "markdown",
   "metadata": {},
   "source": [
    "### Q6. 요일 별 Seasonality 말고, 또 다른 기간 별 패턴을 발견했나요?\n"
   ]
  },
  {
   "cell_type": "markdown",
   "metadata": {},
   "source": [
    "### Q7. 새로운 질문을 던져보세요."
   ]
  },
  {
   "cell_type": "code",
   "execution_count": null,
   "metadata": {},
   "outputs": [],
   "source": []
  }
 ],
 "metadata": {
  "kernelspec": {
   "display_name": "Python 3",
   "language": "python",
   "name": "python3"
  },
  "language_info": {
   "codemirror_mode": {
    "name": "ipython",
    "version": 3
   },
   "file_extension": ".py",
   "mimetype": "text/x-python",
   "name": "python",
   "nbconvert_exporter": "python",
   "pygments_lexer": "ipython3",
   "version": "3.6.8"
  }
 },
 "nbformat": 4,
 "nbformat_minor": 2
}
