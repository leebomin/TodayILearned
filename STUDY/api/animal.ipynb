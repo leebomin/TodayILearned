{
 "cells": [
  {
   "cell_type": "markdown",
   "metadata": {},
   "source": [
    "# 전국동물보호센터정보표준데이터 살펴보기\n",
    "\n",
    "공공데이터포털의 [표준데이터](https://www.data.go.kr/search/index.do?index=DATAGRID)에서 “동물보호센터”를 검색합니다.\n",
    "\n",
    "전국동물보호센터정보표준데이터: <https://www.data.go.kr/dataset/15025454/standard.do>\n",
    "\n",
    "여기서는 “CSV” 파일을 다운로드해 사용합니다."
   ]
  },
  {
   "cell_type": "markdown",
   "metadata": {},
   "source": [
    "## Matplotlib 준비\n",
    "\n",
    "그래프를 그리기 위해 Plotting 라이브러리를 사용합니다.\n",
    "\n",
    "<https://matplotlib.org/>"
   ]
  },
  {
   "cell_type": "code",
   "execution_count": 1,
   "metadata": {},
   "outputs": [
    {
     "data": {
      "text/plain": [
       "'3.1.1'"
      ]
     },
     "execution_count": 1,
     "metadata": {},
     "output_type": "execute_result"
    }
   ],
   "source": [
    "# matplotlib 모듈 사용\n",
    "\n",
    "import matplotlib\n",
    "import matplotlib.pyplot as plt\n",
    "\n",
    "# matplotlib 버전 확인\n",
    "# 버전이 다를 때 문제가 생기는 경우가 종종 있어서 이렇게 사용 중인 버전을 확인합니다.\n",
    "\n",
    "matplotlib.__version__"
   ]
  },
  {
   "cell_type": "markdown",
   "metadata": {},
   "source": [
    "## Pandas 준비\n",
    "\n",
    "데이터를 다루기 위해 Pandas 라이브러리를 사용합니다.\n",
    "\n",
    "Pandas를 사용하면 CSV 파일을 로딩하고, 컬럼 중심으로 데이터를 다룰 수 있습니다.\n",
    "\n",
    "<https://pandas.pydata.org/>"
   ]
  },
  {
   "cell_type": "code",
   "execution_count": 2,
   "metadata": {},
   "outputs": [
    {
     "data": {
      "text/plain": [
       "'0.25.1'"
      ]
     },
     "execution_count": 2,
     "metadata": {},
     "output_type": "execute_result"
    }
   ],
   "source": [
    "# pandas 모듈 사용\n",
    "\n",
    "import pandas as pd\n",
    "\n",
    "# pandas 버전 확인\n",
    "\n",
    "pd.__version__"
   ]
  },
  {
   "cell_type": "markdown",
   "metadata": {},
   "source": [
    "## Folium 준비\n",
    "\n",
    "인터랙티브한 지도를 표현하기 위해 folium 라이브러리를 사용합니다.\n",
    "\n",
    "<https://python-visualization.github.io/folium/>"
   ]
  },
  {
   "cell_type": "code",
   "execution_count": 5,
   "metadata": {},
   "outputs": [],
   "source": [
    "# folium 패키지 설치\n",
    "\n",
    "# !pip uninstall folium"
   ]
  },
  {
   "cell_type": "code",
   "execution_count": 6,
   "metadata": {},
   "outputs": [
    {
     "data": {
      "text/plain": [
       "'0.10.0'"
      ]
     },
     "execution_count": 6,
     "metadata": {},
     "output_type": "execute_result"
    }
   ],
   "source": [
    "# folium 버전 확인\n",
    "\n",
    "import folium\n",
    "\n",
    "folium.__version__"
   ]
  },
  {
   "cell_type": "code",
   "execution_count": 7,
   "metadata": {},
   "outputs": [],
   "source": [
    "# folium 라이브러리의 Map과 HeatMap 사용\n",
    "\n",
    "from folium import Map\n",
    "from folium.plugins import HeatMap"
   ]
  },
  {
   "cell_type": "markdown",
   "metadata": {},
   "source": [
    "## Matplotlib의 한국어 표시 문제\n",
    "\n",
    "Matplotlib을 쓰면 한국어가 제대로 표시되지 않는 문제가 있습니다.\n",
    "\n",
    "여기서는 한국어 글꼴을 지정함으로써 이 문제를 해결하겠습니다."
   ]
  },
  {
   "cell_type": "code",
   "execution_count": 8,
   "metadata": {},
   "outputs": [
    {
     "data": {
      "text/html": [
       "<div>\n",
       "<style scoped>\n",
       "    .dataframe tbody tr th:only-of-type {\n",
       "        vertical-align: middle;\n",
       "    }\n",
       "\n",
       "    .dataframe tbody tr th {\n",
       "        vertical-align: top;\n",
       "    }\n",
       "\n",
       "    .dataframe thead th {\n",
       "        text-align: right;\n",
       "    }\n",
       "</style>\n",
       "<table border=\"1\" class=\"dataframe\">\n",
       "  <thead>\n",
       "    <tr style=\"text-align: right;\">\n",
       "      <th></th>\n",
       "      <th>번호</th>\n",
       "      <th>점수</th>\n",
       "    </tr>\n",
       "  </thead>\n",
       "  <tbody>\n",
       "    <tr>\n",
       "      <td>0</td>\n",
       "      <td>1</td>\n",
       "      <td>80</td>\n",
       "    </tr>\n",
       "    <tr>\n",
       "      <td>1</td>\n",
       "      <td>2</td>\n",
       "      <td>50</td>\n",
       "    </tr>\n",
       "    <tr>\n",
       "      <td>2</td>\n",
       "      <td>3</td>\n",
       "      <td>70</td>\n",
       "    </tr>\n",
       "    <tr>\n",
       "      <td>3</td>\n",
       "      <td>4</td>\n",
       "      <td>70</td>\n",
       "    </tr>\n",
       "    <tr>\n",
       "      <td>4</td>\n",
       "      <td>5</td>\n",
       "      <td>80</td>\n",
       "    </tr>\n",
       "    <tr>\n",
       "      <td>5</td>\n",
       "      <td>6</td>\n",
       "      <td>50</td>\n",
       "    </tr>\n",
       "    <tr>\n",
       "      <td>6</td>\n",
       "      <td>7</td>\n",
       "      <td>60</td>\n",
       "    </tr>\n",
       "    <tr>\n",
       "      <td>7</td>\n",
       "      <td>8</td>\n",
       "      <td>80</td>\n",
       "    </tr>\n",
       "    <tr>\n",
       "      <td>8</td>\n",
       "      <td>9</td>\n",
       "      <td>100</td>\n",
       "    </tr>\n",
       "    <tr>\n",
       "      <td>9</td>\n",
       "      <td>10</td>\n",
       "      <td>100</td>\n",
       "    </tr>\n",
       "  </tbody>\n",
       "</table>\n",
       "</div>"
      ],
      "text/plain": [
       "   번호   점수\n",
       "0   1   80\n",
       "1   2   50\n",
       "2   3   70\n",
       "3   4   70\n",
       "4   5   80\n",
       "5   6   50\n",
       "6   7   60\n",
       "7   8   80\n",
       "8   9  100\n",
       "9  10  100"
      ]
     },
     "execution_count": 8,
     "metadata": {},
     "output_type": "execute_result"
    }
   ],
   "source": [
    "# 임의의 점수를 만들어서 쓰기 위해 random 모듈을 사용하겠습니다.\n",
    "# https://docs.python.org/3/library/random.html\n",
    "\n",
    "import random\n",
    "\n",
    "# 사용할 점수 목록\n",
    "scores = [0, 10, 20, 30, 40, 50, 60, 70, 80, 90, 100]\n",
    "\n",
    "# Accumulator\n",
    "students = []\n",
    "\n",
    "# Accumulation\n",
    "for i in range(10):\n",
    "    # random.choice를 쓰면 주사위 굴리기처럼 임의의 값을 하나 선택해서 쓸 수 있습니다.\n",
    "    students.append({'번호': i + 1, '점수': random.choice(scores)})\n",
    "\n",
    "# 학생 성적을 다루기 좋도록 Pandas를 씁니다.\n",
    "\n",
    "df = pd.DataFrame(students)\n",
    "\n",
    "df"
   ]
  },
  {
   "cell_type": "code",
   "execution_count": null,
   "metadata": {},
   "outputs": [],
   "source": [
    "# 히스토그램 표시\n",
    "\n",
    "df[['점수']].plot.hist(bins=20)\n",
    "\n",
    "plt.show()"
   ]
  },
  {
   "cell_type": "markdown",
   "metadata": {},
   "source": [
    "히스토그램 오른쪽 위에 글씨가 제대로 나오지 않는 걸 확인할 수 있습니다."
   ]
  },
  {
   "cell_type": "markdown",
   "metadata": {},
   "source": [
    "### 사용할 수 있는 글꼴 확인\n",
    "\n",
    "시스템마다 설치된 글꼴이 다르기 때문에 먼저 우리가 쓸 수 있는 글꼴 목록을 확인하겠습니다."
   ]
  },
  {
   "cell_type": "code",
   "execution_count": null,
   "metadata": {
    "scrolled": false
   },
   "outputs": [],
   "source": [
    "# matplotlib에서 쓸 수 있는 ttf 글꼴 목록 중 “Gothic“이 포함된 걸 확인\n",
    "\n",
    "import matplotlib.font_manager as fm\n",
    "\n",
    "for font in fm.fontManager.ttflist:\n",
    "    if 'Gothic' in font.name:\n",
    "        print(font.name)"
   ]
  },
  {
   "cell_type": "markdown",
   "metadata": {},
   "source": [
    "### 글꼴 사용\n",
    "\n",
    "Mac에선 “AppleGothic” 등이 보일 거고, Windows에선 “Malgun Gothic” 등이 보일 겁니다.\n",
    "\n",
    "이 글꼴을 사용하면 됩니다."
   ]
  },
  {
   "cell_type": "code",
   "execution_count": null,
   "metadata": {},
   "outputs": [],
   "source": [
    "# 이 부분은 바로 위에 있는 글꼴 목록을 참고해서 바꿔서 쓰세요.\n",
    "\n",
    "plt.rcParams['font.family'] = 'AppleGothic'"
   ]
  },
  {
   "cell_type": "code",
   "execution_count": null,
   "metadata": {},
   "outputs": [],
   "source": [
    "# 히스토그램 표시\n",
    "\n",
    "df[['점수']].plot.hist(bins=20)\n",
    "\n",
    "plt.show()"
   ]
  },
  {
   "cell_type": "markdown",
   "metadata": {},
   "source": [
    "히스토그램 오른쪽 위에 “점수”란 글씨가 올바르게 나오는 걸 확인할 수 있습니다."
   ]
  },
  {
   "cell_type": "markdown",
   "metadata": {},
   "source": [
    "## 전국동물보호센터정보표준데이터 읽기\n",
    "\n",
    "Pandas의 `read_csv` 함수를 이용해 CSV 파일을 읽습니다.\n",
    "\n",
    "공공데이터는 예전에 구축한 시스템의 “EUC-KR” 인코딩을 사용하는 경우가 많습니다.\n",
    "\n",
    "(인코딩이 맞지 않아 깨지는 건 이 글을 참고하세요: <http://openlook.org/wp/cb-1167/>)"
   ]
  },
  {
   "cell_type": "code",
   "execution_count": null,
   "metadata": {},
   "outputs": [],
   "source": [
    "# 인코딩이 맞지 않아 이걸 실패합니다.\n",
    "\n",
    "pd.read_csv('data/animal.csv')"
   ]
  },
  {
   "cell_type": "code",
   "execution_count": null,
   "metadata": {},
   "outputs": [],
   "source": [
    "# EUC-KR 인코딩으로 CSV 파일 읽기\n",
    "\n",
    "df = pd.read_csv('data/animal.csv', encoding='euc-kr')"
   ]
  },
  {
   "cell_type": "markdown",
   "metadata": {},
   "source": [
    "## 데이터 첫인상 확인\n",
    "\n",
    "일단 데이터가 어떻게 생겼는지 확인합니다."
   ]
  },
  {
   "cell_type": "code",
   "execution_count": null,
   "metadata": {},
   "outputs": [],
   "source": [
    "# 1. 컬럼 목록\n",
    "\n",
    "df.columns"
   ]
  },
  {
   "cell_type": "code",
   "execution_count": null,
   "metadata": {},
   "outputs": [],
   "source": [
    "# 2. 전체 갯수와 컬럼 갯수 확인\n",
    "\n",
    "df.shape"
   ]
  },
  {
   "cell_type": "code",
   "execution_count": null,
   "metadata": {},
   "outputs": [],
   "source": [
    "# 3. 데이터 일부 확인\n",
    "\n",
    "df.head()"
   ]
  },
  {
   "cell_type": "markdown",
   "metadata": {},
   "source": [
    "## 불필요한 컬럼 제거\n",
    "\n",
    "결측값이 너무 많거나 당장에 필요하지 않은 컬럼을 정리합니다."
   ]
  },
  {
   "cell_type": "code",
   "execution_count": null,
   "metadata": {},
   "outputs": [],
   "source": [
    "# 컬럼별 결측값 갯수 확인\n",
    "\n",
    "data = df.isnull().sum()\n",
    "\n",
    "pd.DataFrame(data)"
   ]
  },
  {
   "cell_type": "code",
   "execution_count": null,
   "metadata": {},
   "outputs": [],
   "source": [
    "# 안 쓰는 컬럼 이름을 넣어 drop해서 simple 데이터를 만듭니다.\n",
    "\n",
    "simple_df = df.drop(columns=[\n",
    "    '소재지지번주소', '동물보호센터지정일자',\n",
    "    '평일운영시작시각', '평일운영종료시각', '평일분양시작시각', '평일분양종료시각',\n",
    "    '주말운영시작시각', '주말운영종료시각', '주말분양시작시각', '주말분양종료시각',\n",
    "    '진료실수', '사육실수', '격리실수', '사료보관실수', '구조운반용차량보유대수', '전화번호',\n",
    "    '데이터기준일자', '제공기관코드', '제공기관명', 'Unnamed: 29'\n",
    "])\n",
    "\n",
    "# 정리된 데이터 확인\n",
    "\n",
    "simple_df.head()"
   ]
  },
  {
   "cell_type": "markdown",
   "metadata": {},
   "source": [
    "## 기본적인 분류\n",
    "\n",
    "데이터가 어떻게 분류되어 있는지 확인합니다."
   ]
  },
  {
   "cell_type": "code",
   "execution_count": null,
   "metadata": {
    "scrolled": false
   },
   "outputs": [],
   "source": [
    "# “동물보호센터유형” 컬럼에 있는 값의 갯수를 확인\n",
    "\n",
    "data = simple_df['동물보호센터유형'].value_counts()\n",
    "\n",
    "pd.DataFrame(data)"
   ]
  },
  {
   "cell_type": "markdown",
   "metadata": {},
   "source": [
    "만약 `value_counts`를 쓰지 않고 `count`를 쓴다면 다음과 같이 해야 합니다."
   ]
  },
  {
   "cell_type": "code",
   "execution_count": null,
   "metadata": {},
   "outputs": [],
   "source": [
    "values = simple_df['동물보호센터유형'].unique()\n",
    "\n",
    "values"
   ]
  },
  {
   "cell_type": "code",
   "execution_count": null,
   "metadata": {},
   "outputs": [],
   "source": [
    "counts = []\n",
    "\n",
    "for value in values:\n",
    "    condition = simple_df['동물보호센터유형'] == value\n",
    "    count = simple_df[condition]['동물보호센터유형'].count()\n",
    "    counts.append({'동물보호센터유형': value, '갯수': count})\n",
    "\n",
    "pd.DataFrame(counts, columns=['동물보호센터유형', '갯수'])"
   ]
  },
  {
   "cell_type": "markdown",
   "metadata": {},
   "source": [
    "이렇게 하면 어떤 게 가장 많은지, 그 순서는 어떻게 되는지 따로 확인해야 합니다.\n",
    "\n",
    "게다가 코드가 너무 길다는 것도 문제죠.\n",
    "\n",
    "`value_counts`를 강력히 추천합니다."
   ]
  },
  {
   "cell_type": "code",
   "execution_count": null,
   "metadata": {},
   "outputs": [],
   "source": [
    "# 파이 그래프 표시\n",
    "\n",
    "data = simple_df['동물보호센터유형'].value_counts()\n",
    "\n",
    "data.plot.pie()\n",
    "\n",
    "plt.show()"
   ]
  },
  {
   "cell_type": "code",
   "execution_count": null,
   "metadata": {},
   "outputs": [],
   "source": [
    "# 휴무일도 똑같이 처리해 봅니다.\n",
    "\n",
    "data = simple_df['휴무일'].value_counts()\n",
    "\n",
    "pd.DataFrame(data)"
   ]
  },
  {
   "cell_type": "code",
   "execution_count": null,
   "metadata": {},
   "outputs": [],
   "source": [
    "# nlargest를 쓰면 상위권에 있는 것만 확인할 수 있습니다.\n",
    "\n",
    "data = simple_df['휴무일'].value_counts().nlargest(10)\n",
    "\n",
    "pd.DataFrame(data)"
   ]
  },
  {
   "cell_type": "code",
   "execution_count": null,
   "metadata": {},
   "outputs": [],
   "source": [
    "# 파이 그래프 표시\n",
    "\n",
    "data = simple_df['휴무일'].value_counts()\n",
    "\n",
    "data.plot.pie()\n",
    "\n",
    "plt.show()"
   ]
  },
  {
   "cell_type": "markdown",
   "metadata": {},
   "source": [
    "이렇게 많은 걸 파이 그래프로 그리면 지옥을 볼 수 있습니다."
   ]
  },
  {
   "cell_type": "markdown",
   "metadata": {},
   "source": [
    "# 분포 확인\n",
    "\n",
    "데이터가 어떤 식으로 분포됐는지 히스토그램을 그려보면 알 수 있습니다."
   ]
  },
  {
   "cell_type": "code",
   "execution_count": null,
   "metadata": {},
   "outputs": [],
   "source": [
    "# 위에서 쓴 걸 일단 해봅니다.\n",
    "\n",
    "data = simple_df['수의사인원수'].value_counts()\n",
    "\n",
    "pd.DataFrame(data)"
   ]
  },
  {
   "cell_type": "code",
   "execution_count": null,
   "metadata": {},
   "outputs": [],
   "source": [
    "# 히스토그램 표시\n",
    "\n",
    "simple_df[['수의사인원수']].plot.hist(bins=100)\n",
    "\n",
    "plt.show()"
   ]
  },
  {
   "cell_type": "code",
   "execution_count": null,
   "metadata": {},
   "outputs": [],
   "source": [
    "# 마찬가지로 일단 value_counts부터 확인합니다.\n",
    "\n",
    "data = simple_df['사양관리사인원수'].value_counts()\n",
    "\n",
    "pd.DataFrame(data)"
   ]
  },
  {
   "cell_type": "code",
   "execution_count": null,
   "metadata": {},
   "outputs": [],
   "source": [
    "# 히스토그램 표시\n",
    "\n",
    "simple_df[['사양관리사인원수']].plot.hist(bins=100)\n",
    "\n",
    "plt.show()"
   ]
  },
  {
   "cell_type": "markdown",
   "metadata": {},
   "source": [
    "## 주소 확인\n",
    "\n",
    "주소 정보는 완전 개별적이지만 활용할 방법이 있습니다."
   ]
  },
  {
   "cell_type": "code",
   "execution_count": null,
   "metadata": {},
   "outputs": [],
   "source": [
    "# 결측값을 제외합니다.\n",
    "\n",
    "address_df = simple_df[simple_df['소재지도로명주소'].notnull()]\n",
    "\n",
    "# 데이터 갯수가 어떻게 바뀌는지 확인합니다.\n",
    "\n",
    "simple_df.shape, address_df.shape"
   ]
  },
  {
   "cell_type": "markdown",
   "metadata": {},
   "source": [
    "188 -> 184\n",
    "\n",
    "“소재지도로명주소”에 있던 결측값 4개를 정리한 걸 알 수 있습니다."
   ]
  },
  {
   "cell_type": "code",
   "execution_count": null,
   "metadata": {},
   "outputs": [],
   "source": [
    "# “소재지도로명주소”에 “서울”이 포함된 곳을 찾습니다.\n",
    "\n",
    "address_df[address_df['소재지도로명주소'].str.contains('서울')]"
   ]
  },
  {
   "cell_type": "markdown",
   "metadata": {},
   "source": [
    "## 지도 그리기\n",
    "\n",
    "위도, 경도 데이터가 있기 때문에 지도에 그려볼 수 있습니다.\n",
    "\n",
    "지도 초기값(위도, 경도, 확대)은 구글맵에서 확인해 보세요: <https://maps.google.com/>"
   ]
  },
  {
   "cell_type": "code",
   "execution_count": null,
   "metadata": {
    "scrolled": false
   },
   "outputs": [],
   "source": [
    "# 지도 표시\n",
    "\n",
    "Map(location=[36.5, 127.5], zoom_start=7)"
   ]
  },
  {
   "cell_type": "code",
   "execution_count": null,
   "metadata": {},
   "outputs": [],
   "source": [
    "# 위도, 경도만 모읍니다.\n",
    "\n",
    "coordinates = simple_df[['위도', '경도']]\n",
    "\n",
    "coordinates"
   ]
  },
  {
   "cell_type": "code",
   "execution_count": null,
   "metadata": {},
   "outputs": [],
   "source": [
    "# 지도 다시 준비\n",
    "\n",
    "map = Map(location=[36.5, 127.5], zoom_start=7)\n",
    "\n",
    "# 지도에 위치 표시\n",
    "\n",
    "for lat, lng in coordinates.values:\n",
    "    marker = folium.Circle(\n",
    "        location=[lat, lng],\n",
    "        radius=5_000,\n",
    "        weight=1,\n",
    "        fill_color='#F00',\n",
    "        fill_opacity=0.3,\n",
    "    )\n",
    "    marker.add_to(map)\n",
    "\n",
    "map"
   ]
  },
  {
   "cell_type": "code",
   "execution_count": null,
   "metadata": {},
   "outputs": [],
   "source": [
    "# 지도 다시 준비\n",
    "\n",
    "map = Map(location=[36.5, 127.5], zoom_start=7)\n",
    "\n",
    "# 히트맵 표시\n",
    "\n",
    "HeatMap(data=coordinates, radius=20).add_to(map)\n",
    "\n",
    "map"
   ]
  },
  {
   "cell_type": "code",
   "execution_count": null,
   "metadata": {},
   "outputs": [],
   "source": []
  },
  {
   "cell_type": "code",
   "execution_count": null,
   "metadata": {},
   "outputs": [],
   "source": []
  }
 ],
 "metadata": {
  "kernelspec": {
   "display_name": "Python 3",
   "language": "python",
   "name": "python3"
  },
  "language_info": {
   "codemirror_mode": {
    "name": "ipython",
    "version": 3
   },
   "file_extension": ".py",
   "mimetype": "text/x-python",
   "name": "python",
   "nbconvert_exporter": "python",
   "pygments_lexer": "ipython3",
   "version": "3.7.3"
  }
 },
 "nbformat": 4,
 "nbformat_minor": 2
}
